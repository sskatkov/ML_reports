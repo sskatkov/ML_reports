{
 "cells": [
  {
   "cell_type": "markdown",
   "metadata": {},
   "source": [
    "# Лабораторная работа №4"
   ]
  },
  {
   "cell_type": "code",
   "execution_count": 1,
   "metadata": {},
   "outputs": [
    {
     "name": "stdout",
     "output_type": "stream",
     "text": [
      "True\n",
      "GeForce GTX 1050 Ti\n"
     ]
    }
   ],
   "source": [
    "import torch\n",
    "from torchvision import transforms, datasets\n",
    "import torch.nn as nn\n",
    "import torch.nn.functional as F\n",
    "import torch.optim as optim\n",
    "\n",
    "print(torch.cuda.is_available())\n",
    "device = torch.device(\"cuda\")\n",
    "print(torch.cuda.get_device_name(torch.cuda.current_device()))"
   ]
  },
  {
   "cell_type": "code",
   "execution_count": 2,
   "metadata": {},
   "outputs": [],
   "source": [
    "def make_loaders(dataset, train_size):\n",
    "    train_size = int(train_size * len(dataset))\n",
    "    test_size = len(dataset) - train_size\n",
    "    train_dataset, test_dataset = torch.utils.data.random_split(dataset, [train_size, test_size])\n",
    "\n",
    "    train_loader = torch.utils.data.DataLoader(train_dataset, batch_size=32, shuffle=False)\n",
    "    test_loader = torch.utils.data.DataLoader(test_dataset, batch_size=32, shuffle=False)\n",
    "\n",
    "    return train_loader, test_loader"
   ]
  },
  {
   "cell_type": "markdown",
   "metadata": {},
   "source": [
    "Загружаем данные, разбиваем на обучающую и тестовую выборки."
   ]
  },
  {
   "cell_type": "code",
   "execution_count": 21,
   "metadata": {
    "scrolled": true
   },
   "outputs": [
    {
     "name": "stdout",
     "output_type": "stream",
     "text": [
      "Train size:  14979\n",
      "Test size:  3745\n"
     ]
    }
   ],
   "source": [
    "data_transform = transforms.Compose([\n",
    "            transforms.Grayscale(),\n",
    "            transforms.ToTensor(),\n",
    "            transforms.Lambda(lambda grays: grays * 255.0)])\n",
    "dataset = datasets.ImageFolder(root='data/notMNIST', transform=data_transform)\n",
    "\n",
    "train_loader, test_loader = make_loaders(dataset, 0.8)\n",
    "\n",
    "print('Train size: ', len(train_loader.sampler))\n",
    "print('Test size: ', len(test_loader.sampler))"
   ]
  },
  {
   "cell_type": "markdown",
   "metadata": {},
   "source": [
    "Воспроизводим рекомендованную модель"
   ]
  },
  {
   "cell_type": "code",
   "execution_count": 4,
   "metadata": {},
   "outputs": [],
   "source": [
    "class NotMNIST_model(nn.Module):\n",
    "    def __init__(self):\n",
    "        super(NotMNIST_model, self).__init__()\n",
    "        self.conv1 = nn.Conv2d(1, 16, 3, stride=1, padding=1)\n",
    "        self.pooling1 = nn.MaxPool2d(2, stride=2, padding=0)\n",
    "        self.conv2 = nn.Conv2d(16, 32, 3, stride=1, padding=1)\n",
    "        self.pooling2 = nn.MaxPool2d(2, stride=2, padding=0)\n",
    "        self.conv3 = nn.Conv2d(32, 64, 3, stride=1, padding=1)\n",
    "        self.fc1 = nn.Linear(3136, 10)\n",
    "\n",
    "    def forward(self, x):\n",
    "        x = self.conv1(x)\n",
    "        x = F.relu(x)\n",
    "        x = self.pooling1(x)\n",
    "\n",
    "        x = self.conv2(x)\n",
    "        x = F.relu(x)\n",
    "        x = self.pooling2(x)\n",
    "\n",
    "        x = self.conv3(x)\n",
    "        x = F.relu(x)\n",
    "\n",
    "        x = torch.flatten(x, 1)\n",
    "        x = self.fc1(x)\n",
    "        output = F.log_softmax(x, dim=1) # в документации к PyTorch советуется использовать log_softmax\n",
    "        return output"
   ]
  },
  {
   "cell_type": "code",
   "execution_count": 5,
   "metadata": {},
   "outputs": [],
   "source": [
    "def train(model, device, train_loader, optimizer, epoch, need_print):\n",
    "    model.train()\n",
    "    for batch_idx, (data, target) in enumerate(train_loader):\n",
    "        data, target = data.to(device), target.to(device)\n",
    "        optimizer.zero_grad()\n",
    "        output = model(data)\n",
    "        loss = F.nll_loss(output, target)\n",
    "        loss.backward()\n",
    "        optimizer.step()\n",
    "        if need_print:\n",
    "            if batch_idx % 100 == 0:\n",
    "                print('Train Epoch: {} [{}/{} ({:.0f}%)]\\tLoss: {:.6f}'.format(\n",
    "                    epoch, batch_idx * len(data), len(train_loader.dataset),\n",
    "                    100. * batch_idx / len(train_loader), loss.item()))\n",
    "\n",
    "\n",
    "def test(model, device, test_loader, need_print):\n",
    "    model.eval()\n",
    "    test_loss = 0\n",
    "    correct = 0\n",
    "    with torch.no_grad():\n",
    "        for data, target in test_loader:\n",
    "            data, target = data.to(device), target.to(device)\n",
    "            output = model(data)\n",
    "            test_loss += F.nll_loss(output, target, reduction='sum').item()\n",
    "            pred = output.argmax(dim=1, keepdim=True)\n",
    "            correct += pred.eq(target.view_as(pred)).sum().item()\n",
    "\n",
    "    test_loss /= len(test_loader.dataset)\n",
    "    if need_print: \n",
    "        print('\\nTest set: Average loss: {:.4f}, Accuracy: {}/{} ({:.3f}%)\\n'.format(\n",
    "        test_loss, correct, len(test_loader.dataset),\n",
    "        100. * correct / len(test_loader.dataset)))\n",
    "\n",
    "    return 100. * correct / len(test_loader.dataset)\n",
    "\n",
    "def run(model, num_epochs=3, lr=0.001, momentum=0.95, need_print=True):\n",
    "    optimizer=optim.SGD(model.parameters(), lr, momentum)\n",
    "    accuracy = 0\n",
    "    for epoch in range(1, num_epochs + 1):\n",
    "        train(model, device, train_loader, optimizer, epoch, need_print)\n",
    "        accuracy = test(model, device, test_loader, need_print)\n",
    "    return accuracy"
   ]
  },
  {
   "cell_type": "markdown",
   "metadata": {},
   "source": [
    "Запускаем обучение и тестирование данной модели"
   ]
  },
  {
   "cell_type": "code",
   "execution_count": 6,
   "metadata": {},
   "outputs": [
    {
     "name": "stdout",
     "output_type": "stream",
     "text": [
      "Train Epoch: 1 [0/14979 (0%)]\tLoss: 17.248543\n",
      "Train Epoch: 1 [3200/14979 (21%)]\tLoss: 0.415947\n",
      "Train Epoch: 1 [6400/14979 (43%)]\tLoss: 0.613947\n",
      "Train Epoch: 1 [9600/14979 (64%)]\tLoss: 0.160576\n",
      "Train Epoch: 1 [12800/14979 (85%)]\tLoss: 0.773306\n",
      "\n",
      "Test set: Average loss: 0.3898, Accuracy: 3340/3745 (89.186%)\n",
      "\n",
      "Train Epoch: 2 [0/14979 (0%)]\tLoss: 0.171862\n",
      "Train Epoch: 2 [3200/14979 (21%)]\tLoss: 0.099877\n",
      "Train Epoch: 2 [6400/14979 (43%)]\tLoss: 0.401445\n",
      "Train Epoch: 2 [9600/14979 (64%)]\tLoss: 0.077993\n",
      "Train Epoch: 2 [12800/14979 (85%)]\tLoss: 0.723030\n",
      "\n",
      "Test set: Average loss: 0.3111, Accuracy: 3425/3745 (91.455%)\n",
      "\n",
      "Train Epoch: 3 [0/14979 (0%)]\tLoss: 0.132501\n",
      "Train Epoch: 3 [3200/14979 (21%)]\tLoss: 0.068440\n",
      "Train Epoch: 3 [6400/14979 (43%)]\tLoss: 0.246111\n",
      "Train Epoch: 3 [9600/14979 (64%)]\tLoss: 0.098942\n",
      "Train Epoch: 3 [12800/14979 (85%)]\tLoss: 0.500440\n",
      "\n",
      "Test set: Average loss: 0.2842, Accuracy: 3442/3745 (91.909%)\n",
      "\n"
     ]
    }
   ],
   "source": [
    "run(NotMNIST_model().to(device));"
   ]
  },
  {
   "cell_type": "markdown",
   "metadata": {},
   "source": [
    "Получаем ожидаемый результат. Попробуем улучшить его с помощью batch normalization слоев."
   ]
  },
  {
   "cell_type": "code",
   "execution_count": 7,
   "metadata": {},
   "outputs": [],
   "source": [
    "class NotMNIST_model_normalization(nn.Module):\n",
    "    def __init__(self):\n",
    "        super(NotMNIST_model_normalization, self).__init__()\n",
    "        self.conv1 = nn.Conv2d(1, 16, 3, stride=1, padding=1)\n",
    "        self.batchn1 = nn.BatchNorm2d(16)\n",
    "        self.pooling1 = nn.MaxPool2d(2, stride=2, padding=0)\n",
    "\n",
    "        self.conv2 = nn.Conv2d(16, 32, 3, stride=1, padding=1)\n",
    "        self.batchn2 = nn.BatchNorm2d(32)\n",
    "        self.pooling2 = nn.MaxPool2d(2, stride=2, padding=0)\n",
    "\n",
    "        self.conv3 = nn.Conv2d(32, 64, 3, stride=1, padding=1)\n",
    "        self.batchn3 = nn.BatchNorm2d(64)\n",
    "        self.fc1 = nn.Linear(3136, 10)\n",
    "\n",
    "    def forward(self, x):\n",
    "        x = self.conv1(x)\n",
    "        x = self.batchn1(x)\n",
    "        x = F.relu(x)\n",
    "        x = self.pooling1(x)\n",
    "\n",
    "        x = self.conv2(x)\n",
    "        x = self.batchn2(x)\n",
    "        x = F.relu(x)\n",
    "        x = self.pooling2(x)\n",
    "\n",
    "        x = self.conv3(x)\n",
    "        x = self.batchn3(x)\n",
    "        x = F.relu(x)\n",
    "\n",
    "        x = torch.flatten(x, 1)\n",
    "        x = self.fc1(x)\n",
    "        output = F.log_softmax(x, dim=1)\n",
    "        return output\n"
   ]
  },
  {
   "cell_type": "code",
   "execution_count": 8,
   "metadata": {},
   "outputs": [
    {
     "name": "stdout",
     "output_type": "stream",
     "text": [
      "Train Epoch: 1 [0/14979 (0%)]\tLoss: 2.453179\n",
      "Train Epoch: 1 [3200/14979 (21%)]\tLoss: 0.176899\n",
      "Train Epoch: 1 [6400/14979 (43%)]\tLoss: 0.377921\n",
      "Train Epoch: 1 [9600/14979 (64%)]\tLoss: 0.063480\n",
      "Train Epoch: 1 [12800/14979 (85%)]\tLoss: 0.531538\n",
      "\n",
      "Test set: Average loss: 0.2658, Accuracy: 3441/3745 (91.883%)\n",
      "\n",
      "Train Epoch: 2 [0/14979 (0%)]\tLoss: 0.100324\n",
      "Train Epoch: 2 [3200/14979 (21%)]\tLoss: 0.079321\n",
      "Train Epoch: 2 [6400/14979 (43%)]\tLoss: 0.194987\n",
      "Train Epoch: 2 [9600/14979 (64%)]\tLoss: 0.034836\n",
      "Train Epoch: 2 [12800/14979 (85%)]\tLoss: 0.388912\n",
      "\n",
      "Test set: Average loss: 0.2456, Accuracy: 3478/3745 (92.870%)\n",
      "\n",
      "Train Epoch: 3 [0/14979 (0%)]\tLoss: 0.073975\n",
      "Train Epoch: 3 [3200/14979 (21%)]\tLoss: 0.070222\n",
      "Train Epoch: 3 [6400/14979 (43%)]\tLoss: 0.155836\n",
      "Train Epoch: 3 [9600/14979 (64%)]\tLoss: 0.027585\n",
      "Train Epoch: 3 [12800/14979 (85%)]\tLoss: 0.325075\n",
      "\n",
      "Test set: Average loss: 0.2437, Accuracy: 3474/3745 (92.764%)\n",
      "\n"
     ]
    }
   ],
   "source": [
    "run(NotMNIST_model_normalization().to(device));"
   ]
  },
  {
   "cell_type": "markdown",
   "metadata": {},
   "source": [
    "Точность не очень сильно, но увеличилась, на второй эпохе она даже была больше, чем на первой, но вряд ли здесь приходится говорить о переобучении, так как количество эпох небольшое. Но такое быстрое получение более высокой точности подтверждает то, что batch normalization слои ускоряют работу сети."
   ]
  },
  {
   "cell_type": "markdown",
   "metadata": {},
   "source": [
    "Выведем результат воздействия первого сверточного слоя на входное изображение."
   ]
  },
  {
   "cell_type": "code",
   "execution_count": 23,
   "metadata": {},
   "outputs": [
    {
     "data": {
      "image/png": "[encoded data removed]",
      "text/plain": [
       "<Figure size 432x288 with 1 Axes>"
      ]
     },
     "metadata": {
      "needs_background": "light"
     },
     "output_type": "display_data"
    },
    {
     "data": {
      "image/png": "[encoded data removed]",
      "text/plain": [
       "<Figure size 1080x1080 with 16 Axes>"
      ]
     },
     "metadata": {},
     "output_type": "display_data"
    }
   ],
   "source": [
    "from scipy import ndimage\n",
    "from skimage.io import imread, imshow\n",
    "import matplotlib.pyplot as plt\n",
    "import numpy as np\n",
    "\n",
    "images, _ = next(iter(test_loader))\n",
    "tensor = images[0].unsqueeze(0).to(device)\n",
    "\n",
    "conv_ans = NotMNIST_model_normalization().to(device).conv1(tensor).data.to('cpu')\n",
    "conv_resp = conv_ans.detach().numpy().astype(np.uint8).reshape((16, 28, 28))\n",
    "\n",
    "image = tensor.to('cpu').reshape((28, 28)).numpy().astype(np.uint8)\n",
    "imshow(image, cmap=plt.cm.gray)\n",
    "\n",
    "fig, axes = plt.subplots(4, 4)\n",
    "fig.set_figheight(15)\n",
    "fig.set_figwidth(15)\n",
    "for response, ax in zip(conv_resp, axes.ravel()):\n",
    "    ax.matshow(response, cmap=plt.cm.gray)\n",
    "    ax.set_xticks(())\n",
    "    ax.set_yticks(())"
   ]
  },
  {
   "cell_type": "markdown",
   "metadata": {},
   "source": [
    "Видим различные варианты выделения признаков."
   ]
  },
  {
   "cell_type": "markdown",
   "metadata": {},
   "source": [
    "Загружам данные датасета PetImages"
   ]
  },
  {
   "cell_type": "code",
   "execution_count": 10,
   "metadata": {},
   "outputs": [
    {
     "name": "stdout",
     "output_type": "stream",
     "text": [
      "Train size:  19995\n",
      "Test size:  4999\n"
     ]
    }
   ],
   "source": [
    "data_transform = transforms.Compose([transforms.ToTensor()])\n",
    "dataset = datasets.ImageFolder(root='data/PetImages', transform=data_transform)\n",
    "\n",
    "train_loader, test_loader = make_loaders(dataset, 0.8)\n",
    "\n",
    "print('Train size: ', len(train_loader.sampler))\n",
    "print('Test size: ', len(test_loader.sampler))"
   ]
  },
  {
   "cell_type": "markdown",
   "metadata": {},
   "source": [
    "Создаем и проверяем предлооженную модель."
   ]
  },
  {
   "cell_type": "code",
   "execution_count": 11,
   "metadata": {},
   "outputs": [],
   "source": [
    "class PetImages_model(nn.Module):\n",
    "    def __init__(self):\n",
    "        super(PetImages_model, self).__init__()\n",
    "        self.conv1 = nn.Conv2d(3, 32, 3, stride=1, padding=1)\n",
    "        self.pooling1 = nn.MaxPool2d(2, stride=2, padding=0)\n",
    "\n",
    "        self.conv2 = nn.Conv2d(32, 32, 3, stride=1, padding=1)\n",
    "        self.pooling2 = nn.MaxPool2d(2, stride=2, padding=0)\n",
    "\n",
    "        self.conv3 = nn.Conv2d(32, 64, 3, stride=1, padding=1)\n",
    "        self.pooling3 = nn.MaxPool2d(2, stride=2, padding=0)\n",
    "\n",
    "        self.fc1 = nn.Linear(40000, 128)\n",
    "        self.fc2 = nn.Linear(128, 2)\n",
    "\n",
    "    def forward(self, x):\n",
    "        x = self.conv1(x)\n",
    "        x = F.relu(x)\n",
    "        x = self.pooling1(x)\n",
    "\n",
    "        x = self.conv2(x)\n",
    "        x = F.relu(x)\n",
    "        x = self.pooling2(x)\n",
    "\n",
    "        x = self.conv3(x)\n",
    "        x = F.relu(x)\n",
    "        x = self.pooling3(x)\n",
    "\n",
    "        x = torch.flatten(x, 1)\n",
    "        x = self.fc1(x)\n",
    "        x = F.relu(x)\n",
    "\n",
    "        x = self.fc2(x)\n",
    "        output = F.log_softmax(x, dim=1)\n",
    "        return output\n"
   ]
  },
  {
   "cell_type": "code",
   "execution_count": 12,
   "metadata": {},
   "outputs": [
    {
     "name": "stdout",
     "output_type": "stream",
     "text": [
      "Train Epoch: 1 [0/19995 (0%)]\tLoss: 0.696765\n",
      "Train Epoch: 1 [3200/19995 (16%)]\tLoss: 0.691353\n",
      "Train Epoch: 1 [6400/19995 (32%)]\tLoss: 0.690371\n",
      "Train Epoch: 1 [9600/19995 (48%)]\tLoss: 0.675878\n",
      "Train Epoch: 1 [12800/19995 (64%)]\tLoss: 0.674493\n",
      "Train Epoch: 1 [16000/19995 (80%)]\tLoss: 0.695837\n",
      "Train Epoch: 1 [19200/19995 (96%)]\tLoss: 0.701737\n",
      "\n",
      "Test set: Average loss: 0.6800, Accuracy: 2892/4999 (57.852%)\n",
      "\n",
      "Train Epoch: 2 [0/19995 (0%)]\tLoss: 0.703493\n",
      "Train Epoch: 2 [3200/19995 (16%)]\tLoss: 0.698405\n",
      "Train Epoch: 2 [6400/19995 (32%)]\tLoss: 0.681726\n",
      "Train Epoch: 2 [9600/19995 (48%)]\tLoss: 0.595586\n",
      "Train Epoch: 2 [12800/19995 (64%)]\tLoss: 0.636702\n",
      "Train Epoch: 2 [16000/19995 (80%)]\tLoss: 0.695955\n",
      "Train Epoch: 2 [19200/19995 (96%)]\tLoss: 0.679622\n",
      "\n",
      "Test set: Average loss: 0.6606, Accuracy: 2978/4999 (59.572%)\n",
      "\n",
      "Train Epoch: 3 [0/19995 (0%)]\tLoss: 0.688293\n",
      "Train Epoch: 3 [3200/19995 (16%)]\tLoss: 0.633147\n",
      "Train Epoch: 3 [6400/19995 (32%)]\tLoss: 0.641005\n",
      "Train Epoch: 3 [9600/19995 (48%)]\tLoss: 0.549257\n",
      "Train Epoch: 3 [12800/19995 (64%)]\tLoss: 0.570857\n",
      "Train Epoch: 3 [16000/19995 (80%)]\tLoss: 0.622497\n",
      "Train Epoch: 3 [19200/19995 (96%)]\tLoss: 0.631635\n",
      "\n",
      "Test set: Average loss: 0.6293, Accuracy: 3173/4999 (63.473%)\n",
      "\n",
      "Train Epoch: 4 [0/19995 (0%)]\tLoss: 0.636248\n",
      "Train Epoch: 4 [3200/19995 (16%)]\tLoss: 0.578975\n",
      "Train Epoch: 4 [6400/19995 (32%)]\tLoss: 0.584166\n",
      "Train Epoch: 4 [9600/19995 (48%)]\tLoss: 0.498234\n",
      "Train Epoch: 4 [12800/19995 (64%)]\tLoss: 0.524507\n",
      "Train Epoch: 4 [16000/19995 (80%)]\tLoss: 0.551562\n",
      "Train Epoch: 4 [19200/19995 (96%)]\tLoss: 0.531147\n",
      "\n",
      "Test set: Average loss: 0.5683, Accuracy: 3512/4999 (70.254%)\n",
      "\n",
      "Train Epoch: 5 [0/19995 (0%)]\tLoss: 0.535108\n",
      "Train Epoch: 5 [3200/19995 (16%)]\tLoss: 0.503204\n",
      "Train Epoch: 5 [6400/19995 (32%)]\tLoss: 0.533347\n",
      "Train Epoch: 5 [9600/19995 (48%)]\tLoss: 0.451089\n",
      "Train Epoch: 5 [12800/19995 (64%)]\tLoss: 0.439442\n",
      "Train Epoch: 5 [16000/19995 (80%)]\tLoss: 0.517735\n",
      "Train Epoch: 5 [19200/19995 (96%)]\tLoss: 0.484588\n",
      "\n",
      "Test set: Average loss: 0.5386, Accuracy: 3629/4999 (72.595%)\n",
      "\n",
      "Train Epoch: 6 [0/19995 (0%)]\tLoss: 0.408170\n",
      "Train Epoch: 6 [3200/19995 (16%)]\tLoss: 0.490385\n",
      "Train Epoch: 6 [6400/19995 (32%)]\tLoss: 0.543228\n",
      "Train Epoch: 6 [9600/19995 (48%)]\tLoss: 0.384974\n",
      "Train Epoch: 6 [12800/19995 (64%)]\tLoss: 0.428453\n",
      "Train Epoch: 6 [16000/19995 (80%)]\tLoss: 0.459402\n",
      "Train Epoch: 6 [19200/19995 (96%)]\tLoss: 0.449718\n",
      "\n",
      "Test set: Average loss: 0.5335, Accuracy: 3643/4999 (72.875%)\n",
      "\n",
      "Train Epoch: 7 [0/19995 (0%)]\tLoss: 0.380588\n",
      "Train Epoch: 7 [3200/19995 (16%)]\tLoss: 0.470178\n",
      "Train Epoch: 7 [6400/19995 (32%)]\tLoss: 0.542894\n",
      "Train Epoch: 7 [9600/19995 (48%)]\tLoss: 0.350941\n",
      "Train Epoch: 7 [12800/19995 (64%)]\tLoss: 0.437905\n",
      "Train Epoch: 7 [16000/19995 (80%)]\tLoss: 0.410358\n",
      "Train Epoch: 7 [19200/19995 (96%)]\tLoss: 0.453621\n",
      "\n",
      "Test set: Average loss: 0.5242, Accuracy: 3677/4999 (73.555%)\n",
      "\n",
      "Train Epoch: 8 [0/19995 (0%)]\tLoss: 0.368578\n",
      "Train Epoch: 8 [3200/19995 (16%)]\tLoss: 0.439660\n",
      "Train Epoch: 8 [6400/19995 (32%)]\tLoss: 0.504270\n",
      "Train Epoch: 8 [9600/19995 (48%)]\tLoss: 0.319639\n",
      "Train Epoch: 8 [12800/19995 (64%)]\tLoss: 0.422631\n",
      "Train Epoch: 8 [16000/19995 (80%)]\tLoss: 0.326715\n",
      "Train Epoch: 8 [19200/19995 (96%)]\tLoss: 0.450705\n",
      "\n",
      "Test set: Average loss: 0.5276, Accuracy: 3703/4999 (74.075%)\n",
      "\n",
      "Train Epoch: 9 [0/19995 (0%)]\tLoss: 0.382647\n",
      "Train Epoch: 9 [3200/19995 (16%)]\tLoss: 0.372704\n",
      "Train Epoch: 9 [6400/19995 (32%)]\tLoss: 0.453802\n",
      "Train Epoch: 9 [9600/19995 (48%)]\tLoss: 0.256993\n",
      "Train Epoch: 9 [12800/19995 (64%)]\tLoss: 0.403278\n",
      "Train Epoch: 9 [16000/19995 (80%)]\tLoss: 0.264780\n",
      "Train Epoch: 9 [19200/19995 (96%)]\tLoss: 0.397824\n",
      "\n",
      "Test set: Average loss: 0.5125, Accuracy: 3792/4999 (75.855%)\n",
      "\n",
      "Train Epoch: 10 [0/19995 (0%)]\tLoss: 0.333652\n",
      "Train Epoch: 10 [3200/19995 (16%)]\tLoss: 0.286574\n",
      "Train Epoch: 10 [6400/19995 (32%)]\tLoss: 0.436354\n",
      "Train Epoch: 10 [9600/19995 (48%)]\tLoss: 0.246918\n",
      "Train Epoch: 10 [12800/19995 (64%)]\tLoss: 0.386752\n",
      "Train Epoch: 10 [16000/19995 (80%)]\tLoss: 0.204426\n",
      "Train Epoch: 10 [19200/19995 (96%)]\tLoss: 0.357995\n",
      "\n",
      "Test set: Average loss: 0.5413, Accuracy: 3823/4999 (76.475%)\n",
      "\n"
     ]
    }
   ],
   "source": [
    "run(PetImages_model().to(device), 10);"
   ]
  },
  {
   "cell_type": "markdown",
   "metadata": {},
   "source": [
    "Попробуем улучшить результат с помощью batch normalization слоёв."
   ]
  },
  {
   "cell_type": "code",
   "execution_count": 13,
   "metadata": {},
   "outputs": [],
   "source": [
    "class PetImages_model_normalization(nn.Module):\n",
    "    def __init__(self):\n",
    "        super(PetImages_model_normalization, self).__init__()\n",
    "        self.conv1 = nn.Conv2d(3, 32, 3, stride=1, padding=1)\n",
    "        self.bn1 = nn.BatchNorm2d(32)\n",
    "        self.pooling1 = nn.MaxPool2d(2, stride=2, padding=0)\n",
    "\n",
    "        self.conv2 = nn.Conv2d(32, 32, 3, stride=1, padding=1)\n",
    "        self.bn2 = nn.BatchNorm2d(32)\n",
    "        self.pooling2 = nn.MaxPool2d(2, stride=2, padding=0)\n",
    "\n",
    "        self.conv3 = nn.Conv2d(32, 64, 3, stride=1, padding=1)\n",
    "        self.bn3 = nn.BatchNorm2d(64)\n",
    "        self.pooling3 = nn.MaxPool2d(2, stride=2, padding=0)\n",
    "\n",
    "        self.fc1 = nn.Linear(40000, 128)\n",
    "        self.bnfc1 = nn.BatchNorm1d(128)\n",
    "        self.fc2 = nn.Linear(128, 2)\n",
    "\n",
    "    def forward(self, x):\n",
    "        x = self.conv1(x)\n",
    "        x = self.bn1(x)\n",
    "        x = F.relu(x)\n",
    "        x = self.pooling1(x)\n",
    "\n",
    "        x = self.conv2(x)\n",
    "        x = self.bn2(x)\n",
    "        x = F.relu(x)\n",
    "        x = self.pooling2(x)\n",
    "\n",
    "        x = self.conv3(x)\n",
    "        x = self.bn3(x)\n",
    "        x = F.relu(x)\n",
    "        x = self.pooling3(x)\n",
    "\n",
    "        x = torch.flatten(x, 1)\n",
    "        x = self.fc1(x)\n",
    "        x = self.bnfc1(x)\n",
    "        x = F.relu(x)\n",
    "\n",
    "        x = self.fc2(x)\n",
    "        output = F.log_softmax(x, dim=1)\n",
    "        return output"
   ]
  },
  {
   "cell_type": "code",
   "execution_count": 14,
   "metadata": {},
   "outputs": [
    {
     "name": "stdout",
     "output_type": "stream",
     "text": [
      "Train Epoch: 1 [0/19995 (0%)]\tLoss: 0.671510\n",
      "Train Epoch: 1 [3200/19995 (16%)]\tLoss: 0.583907\n",
      "Train Epoch: 1 [6400/19995 (32%)]\tLoss: 0.505105\n",
      "Train Epoch: 1 [9600/19995 (48%)]\tLoss: 0.385065\n",
      "Train Epoch: 1 [12800/19995 (64%)]\tLoss: 0.535475\n",
      "Train Epoch: 1 [16000/19995 (80%)]\tLoss: 0.494559\n",
      "Train Epoch: 1 [19200/19995 (96%)]\tLoss: 0.495638\n",
      "\n",
      "Test set: Average loss: 0.5043, Accuracy: 3751/4999 (75.035%)\n",
      "\n",
      "Train Epoch: 2 [0/19995 (0%)]\tLoss: 0.371022\n",
      "Train Epoch: 2 [3200/19995 (16%)]\tLoss: 0.503143\n",
      "Train Epoch: 2 [6400/19995 (32%)]\tLoss: 0.431577\n",
      "Train Epoch: 2 [9600/19995 (48%)]\tLoss: 0.242436\n",
      "Train Epoch: 2 [12800/19995 (64%)]\tLoss: 0.393312\n",
      "Train Epoch: 2 [16000/19995 (80%)]\tLoss: 0.464875\n",
      "Train Epoch: 2 [19200/19995 (96%)]\tLoss: 0.380311\n",
      "\n",
      "Test set: Average loss: 0.4711, Accuracy: 3881/4999 (77.636%)\n",
      "\n",
      "Train Epoch: 3 [0/19995 (0%)]\tLoss: 0.339972\n",
      "Train Epoch: 3 [3200/19995 (16%)]\tLoss: 0.299015\n",
      "Train Epoch: 3 [6400/19995 (32%)]\tLoss: 0.313510\n",
      "Train Epoch: 3 [9600/19995 (48%)]\tLoss: 0.150875\n",
      "Train Epoch: 3 [12800/19995 (64%)]\tLoss: 0.303817\n",
      "Train Epoch: 3 [16000/19995 (80%)]\tLoss: 0.303827\n",
      "Train Epoch: 3 [19200/19995 (96%)]\tLoss: 0.296902\n",
      "\n",
      "Test set: Average loss: 0.5575, Accuracy: 3753/4999 (75.075%)\n",
      "\n",
      "Train Epoch: 4 [0/19995 (0%)]\tLoss: 0.207355\n",
      "Train Epoch: 4 [3200/19995 (16%)]\tLoss: 0.090028\n",
      "Train Epoch: 4 [6400/19995 (32%)]\tLoss: 0.173413\n",
      "Train Epoch: 4 [9600/19995 (48%)]\tLoss: 0.171801\n",
      "Train Epoch: 4 [12800/19995 (64%)]\tLoss: 0.149027\n",
      "Train Epoch: 4 [16000/19995 (80%)]\tLoss: 0.141624\n",
      "Train Epoch: 4 [19200/19995 (96%)]\tLoss: 0.167676\n",
      "\n",
      "Test set: Average loss: 0.5688, Accuracy: 3875/4999 (77.516%)\n",
      "\n",
      "Train Epoch: 5 [0/19995 (0%)]\tLoss: 0.053530\n",
      "Train Epoch: 5 [3200/19995 (16%)]\tLoss: 0.108771\n",
      "Train Epoch: 5 [6400/19995 (32%)]\tLoss: 0.149476\n",
      "Train Epoch: 5 [9600/19995 (48%)]\tLoss: 0.182745\n",
      "Train Epoch: 5 [12800/19995 (64%)]\tLoss: 0.077096\n",
      "Train Epoch: 5 [16000/19995 (80%)]\tLoss: 0.144507\n",
      "Train Epoch: 5 [19200/19995 (96%)]\tLoss: 0.215242\n",
      "\n",
      "Test set: Average loss: 0.6439, Accuracy: 3847/4999 (76.955%)\n",
      "\n",
      "Train Epoch: 6 [0/19995 (0%)]\tLoss: 0.100801\n",
      "Train Epoch: 6 [3200/19995 (16%)]\tLoss: 0.059639\n",
      "Train Epoch: 6 [6400/19995 (32%)]\tLoss: 0.071342\n",
      "Train Epoch: 6 [9600/19995 (48%)]\tLoss: 0.035003\n",
      "Train Epoch: 6 [12800/19995 (64%)]\tLoss: 0.050617\n",
      "Train Epoch: 6 [16000/19995 (80%)]\tLoss: 0.136974\n",
      "Train Epoch: 6 [19200/19995 (96%)]\tLoss: 0.121057\n",
      "\n",
      "Test set: Average loss: 0.7195, Accuracy: 3871/4999 (77.435%)\n",
      "\n",
      "Train Epoch: 7 [0/19995 (0%)]\tLoss: 0.058411\n",
      "Train Epoch: 7 [3200/19995 (16%)]\tLoss: 0.046681\n",
      "Train Epoch: 7 [6400/19995 (32%)]\tLoss: 0.116402\n",
      "Train Epoch: 7 [9600/19995 (48%)]\tLoss: 0.075124\n",
      "Train Epoch: 7 [12800/19995 (64%)]\tLoss: 0.114530\n",
      "Train Epoch: 7 [16000/19995 (80%)]\tLoss: 0.012008\n",
      "Train Epoch: 7 [19200/19995 (96%)]\tLoss: 0.048442\n",
      "\n",
      "Test set: Average loss: 0.7785, Accuracy: 3844/4999 (76.895%)\n",
      "\n",
      "Train Epoch: 8 [0/19995 (0%)]\tLoss: 0.039810\n",
      "Train Epoch: 8 [3200/19995 (16%)]\tLoss: 0.032724\n",
      "Train Epoch: 8 [6400/19995 (32%)]\tLoss: 0.014259\n",
      "Train Epoch: 8 [9600/19995 (48%)]\tLoss: 0.020966\n",
      "Train Epoch: 8 [12800/19995 (64%)]\tLoss: 0.009297\n",
      "Train Epoch: 8 [16000/19995 (80%)]\tLoss: 0.008017\n",
      "Train Epoch: 8 [19200/19995 (96%)]\tLoss: 0.040294\n",
      "\n",
      "Test set: Average loss: 0.7596, Accuracy: 3919/4999 (78.396%)\n",
      "\n",
      "Train Epoch: 9 [0/19995 (0%)]\tLoss: 0.017129\n",
      "Train Epoch: 9 [3200/19995 (16%)]\tLoss: 0.014680\n",
      "Train Epoch: 9 [6400/19995 (32%)]\tLoss: 0.014399\n",
      "Train Epoch: 9 [9600/19995 (48%)]\tLoss: 0.006906\n",
      "Train Epoch: 9 [12800/19995 (64%)]\tLoss: 0.006533\n",
      "Train Epoch: 9 [16000/19995 (80%)]\tLoss: 0.005733\n",
      "Train Epoch: 9 [19200/19995 (96%)]\tLoss: 0.007802\n",
      "\n",
      "Test set: Average loss: 0.7402, Accuracy: 3973/4999 (79.476%)\n",
      "\n",
      "Train Epoch: 10 [0/19995 (0%)]\tLoss: 0.003415\n",
      "Train Epoch: 10 [3200/19995 (16%)]\tLoss: 0.003523\n",
      "Train Epoch: 10 [6400/19995 (32%)]\tLoss: 0.011871\n",
      "Train Epoch: 10 [9600/19995 (48%)]\tLoss: 0.004207\n",
      "Train Epoch: 10 [12800/19995 (64%)]\tLoss: 0.003691\n",
      "Train Epoch: 10 [16000/19995 (80%)]\tLoss: 0.003207\n",
      "Train Epoch: 10 [19200/19995 (96%)]\tLoss: 0.004089\n",
      "\n",
      "Test set: Average loss: 0.7519, Accuracy: 4016/4999 (80.336%)\n",
      "\n"
     ]
    }
   ],
   "source": [
    "run(PetImages_model_normalization().to(device), 10);"
   ]
  },
  {
   "cell_type": "code",
   "execution_count": null,
   "metadata": {},
   "outputs": [],
   "source": [
    "Batch normalization слои позволили достаточно неплохо увеличить точность."
   ]
  },
  {
   "cell_type": "markdown",
   "metadata": {},
   "source": [
    "Попробуем добавить dropout слой"
   ]
  },
  {
   "cell_type": "code",
   "execution_count": 15,
   "metadata": {},
   "outputs": [],
   "source": [
    "class PetImages_model_dropout(nn.Module):\n",
    "    def __init__(self, p=0.5):\n",
    "        super(PetImages_model_dropout, self).__init__()\n",
    "        self.conv1 = nn.Conv2d(3, 32, 3, stride=1, padding=1)\n",
    "        self.bn1 = nn.BatchNorm2d(32)\n",
    "        self.pooling1 = nn.MaxPool2d(2, stride=2, padding=0)\n",
    "\n",
    "        self.conv2 = nn.Conv2d(32, 32, 3, stride=1, padding=1)\n",
    "        self.bn2 = nn.BatchNorm2d(32)\n",
    "        self.pooling2 = nn.MaxPool2d(2, stride=2, padding=0)\n",
    "\n",
    "        self.conv3 = nn.Conv2d(32, 64, 3, stride=1, padding=1)\n",
    "        self.bn3 = nn.BatchNorm2d(64)\n",
    "        self.pooling3 = nn.MaxPool2d(2, stride=2, padding=0)\n",
    "\n",
    "        self.fc1 = nn.Linear(40000, 128)\n",
    "        self.bnfc1 = nn.BatchNorm1d(128)\n",
    "        self.dropout1 = nn.Dropout(p)\n",
    "        self.fc2 = nn.Linear(128, 2)\n",
    "\n",
    "    def forward(self, x):\n",
    "        x = self.conv1(x)\n",
    "        x = self.bn1(x)\n",
    "        x = F.relu(x)\n",
    "        x = self.pooling1(x)\n",
    "\n",
    "        x = self.conv2(x)\n",
    "        x = self.bn2(x)\n",
    "        x = F.relu(x)\n",
    "        x = self.pooling2(x)\n",
    "\n",
    "        x = self.conv3(x)\n",
    "        x = self.bn3(x)\n",
    "        x = F.relu(x)\n",
    "        x = self.pooling3(x)\n",
    "\n",
    "        x = torch.flatten(x, 1)\n",
    "        x = self.fc1(x)\n",
    "        x = self.bnfc1(x)\n",
    "        x = self.dropout1(x)\n",
    "        x = F.relu(x)\n",
    "\n",
    "        x = self.fc2(x)\n",
    "        output = F.log_softmax(x, dim=1)\n",
    "        return output        "
   ]
  },
  {
   "cell_type": "markdown",
   "metadata": {},
   "source": [
    "Запускаем на различных параметрах слоя"
   ]
  },
  {
   "cell_type": "code",
   "execution_count": 16,
   "metadata": {},
   "outputs": [
    {
     "name": "stdout",
     "output_type": "stream",
     "text": [
      "\n",
      " p = 0.0, Accuracy: 75.795%\n",
      "\n",
      "\n",
      " p = 0.1, Accuracy: 75.535%\n",
      "\n",
      "\n",
      " p = 0.2, Accuracy: 77.155%\n",
      "\n",
      "\n",
      " p = 0.30000000000000004, Accuracy: 77.996%\n",
      "\n",
      "\n",
      " p = 0.4, Accuracy: 78.296%\n",
      "\n",
      "\n",
      " p = 0.5, Accuracy: 78.076%\n",
      "\n"
     ]
    }
   ],
   "source": [
    "for p in np.arange(0.0, 0.6, 0.1):\n",
    "    accuracy = run(PetImages_model_dropout(p).to(device), need_print=False)\n",
    "    print('\\n p = {}, Accuracy: {:.3f}%\\n'.format(p, accuracy))"
   ]
  },
  {
   "cell_type": "markdown",
   "metadata": {},
   "source": [
    "Как видим, dropout слой не позволил получить большую точность. Возможно, это связано с тем, что обучение производится не так долго и сеть не успевает переобучиться, с чем, как раз, призван бороться dropout слой."
   ]
  }
 ],
 "metadata": {
  "kernelspec": {
   "display_name": "Python 3",
   "language": "python",
   "name": "python3"
  },
  "language_info": {
   "codemirror_mode": {
    "name": "ipython",
    "version": 3
   },
   "file_extension": ".py",
   "mimetype": "text/x-python",
   "name": "python",
   "nbconvert_exporter": "python",
   "pygments_lexer": "ipython3",
   "version": "3.6.9"
  }
 },
 "nbformat": 4,
 "nbformat_minor": 2
}
